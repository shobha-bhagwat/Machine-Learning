{
 "cells": [
  {
   "cell_type": "code",
   "execution_count": 2,
   "metadata": {},
   "outputs": [],
   "source": [
    "import pandas as pd\n",
    "import numpy as np\n",
    "import matplotlib.pyplot as plt\n",
    "import scipy.stats\n",
    "import pylab\n",
    "import statsmodels.graphics.tsaplots as sgt\n",
    "import statsmodels.tsa.stattools as sts\n",
    "from statsmodels.tsa.seasonal import seasonal_decompose\n",
    "from statsmodels.tsa.arima_model import ARMA\n",
    "from scipy.stats.distributions import chi2\n",
    "import seaborn as sns"
   ]
  },
  {
   "cell_type": "code",
   "execution_count": 3,
   "metadata": {},
   "outputs": [],
   "source": [
    "raw_data = pd.read_csv(\"Index2018.csv\", parse_dates = [\"date\"])"
   ]
  },
  {
   "cell_type": "code",
   "execution_count": 3,
   "metadata": {},
   "outputs": [
    {
     "data": {
      "text/html": [
       "<div>\n",
       "<style scoped>\n",
       "    .dataframe tbody tr th:only-of-type {\n",
       "        vertical-align: middle;\n",
       "    }\n",
       "\n",
       "    .dataframe tbody tr th {\n",
       "        vertical-align: top;\n",
       "    }\n",
       "\n",
       "    .dataframe thead th {\n",
       "        text-align: right;\n",
       "    }\n",
       "</style>\n",
       "<table border=\"1\" class=\"dataframe\">\n",
       "  <thead>\n",
       "    <tr style=\"text-align: right;\">\n",
       "      <th></th>\n",
       "      <th>date</th>\n",
       "      <th>spx</th>\n",
       "      <th>dax</th>\n",
       "      <th>ftse</th>\n",
       "      <th>nikkei</th>\n",
       "    </tr>\n",
       "  </thead>\n",
       "  <tbody>\n",
       "    <tr>\n",
       "      <th>0</th>\n",
       "      <td>1994-07-01</td>\n",
       "      <td>469.900000</td>\n",
       "      <td>2224.95</td>\n",
       "      <td>3445.980000</td>\n",
       "      <td>18124.01</td>\n",
       "    </tr>\n",
       "    <tr>\n",
       "      <th>1</th>\n",
       "      <td>1994-10-01</td>\n",
       "      <td>475.270000</td>\n",
       "      <td>2225.00</td>\n",
       "      <td>3440.580000</td>\n",
       "      <td>18443.44</td>\n",
       "    </tr>\n",
       "    <tr>\n",
       "      <th>2</th>\n",
       "      <td>1994-11-01</td>\n",
       "      <td>474.130000</td>\n",
       "      <td>2228.10</td>\n",
       "      <td>3413.770000</td>\n",
       "      <td>18485.25</td>\n",
       "    </tr>\n",
       "    <tr>\n",
       "      <th>3</th>\n",
       "      <td>1994-12-01</td>\n",
       "      <td>474.170000</td>\n",
       "      <td>2182.06</td>\n",
       "      <td>3372.020000</td>\n",
       "      <td>18793.88</td>\n",
       "    </tr>\n",
       "    <tr>\n",
       "      <th>4</th>\n",
       "      <td>1994-01-13</td>\n",
       "      <td>472.470000</td>\n",
       "      <td>2142.37</td>\n",
       "      <td>3360.010000</td>\n",
       "      <td>18577.26</td>\n",
       "    </tr>\n",
       "    <tr>\n",
       "      <th>...</th>\n",
       "      <td>...</td>\n",
       "      <td>...</td>\n",
       "      <td>...</td>\n",
       "      <td>...</td>\n",
       "      <td>...</td>\n",
       "    </tr>\n",
       "    <tr>\n",
       "      <th>6264</th>\n",
       "      <td>2018-01-23</td>\n",
       "      <td>2839.130362</td>\n",
       "      <td>13559.60</td>\n",
       "      <td>7731.827774</td>\n",
       "      <td>24124.15</td>\n",
       "    </tr>\n",
       "    <tr>\n",
       "      <th>6265</th>\n",
       "      <td>2018-01-24</td>\n",
       "      <td>2837.544008</td>\n",
       "      <td>13414.74</td>\n",
       "      <td>7643.428966</td>\n",
       "      <td>23940.78</td>\n",
       "    </tr>\n",
       "    <tr>\n",
       "      <th>6266</th>\n",
       "      <td>2018-01-25</td>\n",
       "      <td>2839.253031</td>\n",
       "      <td>13298.36</td>\n",
       "      <td>7615.839954</td>\n",
       "      <td>23669.49</td>\n",
       "    </tr>\n",
       "    <tr>\n",
       "      <th>6267</th>\n",
       "      <td>2018-01-26</td>\n",
       "      <td>2872.867839</td>\n",
       "      <td>13340.17</td>\n",
       "      <td>7665.541292</td>\n",
       "      <td>23631.88</td>\n",
       "    </tr>\n",
       "    <tr>\n",
       "      <th>6268</th>\n",
       "      <td>2018-01-29</td>\n",
       "      <td>2853.528411</td>\n",
       "      <td>13324.48</td>\n",
       "      <td>7671.533300</td>\n",
       "      <td>23629.34</td>\n",
       "    </tr>\n",
       "  </tbody>\n",
       "</table>\n",
       "<p>6269 rows × 5 columns</p>\n",
       "</div>"
      ],
      "text/plain": [
       "           date          spx       dax         ftse    nikkei\n",
       "0    1994-07-01   469.900000   2224.95  3445.980000  18124.01\n",
       "1    1994-10-01   475.270000   2225.00  3440.580000  18443.44\n",
       "2    1994-11-01   474.130000   2228.10  3413.770000  18485.25\n",
       "3    1994-12-01   474.170000   2182.06  3372.020000  18793.88\n",
       "4    1994-01-13   472.470000   2142.37  3360.010000  18577.26\n",
       "...         ...          ...       ...          ...       ...\n",
       "6264 2018-01-23  2839.130362  13559.60  7731.827774  24124.15\n",
       "6265 2018-01-24  2837.544008  13414.74  7643.428966  23940.78\n",
       "6266 2018-01-25  2839.253031  13298.36  7615.839954  23669.49\n",
       "6267 2018-01-26  2872.867839  13340.17  7665.541292  23631.88\n",
       "6268 2018-01-29  2853.528411  13324.48  7671.533300  23629.34\n",
       "\n",
       "[6269 rows x 5 columns]"
      ]
     },
     "execution_count": 3,
     "metadata": {},
     "output_type": "execute_result"
    }
   ],
   "source": [
    "raw_data"
   ]
  },
  {
   "cell_type": "code",
   "execution_count": 42,
   "metadata": {},
   "outputs": [],
   "source": [
    "df = raw_data.copy()"
   ]
  },
  {
   "cell_type": "code",
   "execution_count": 5,
   "metadata": {},
   "outputs": [
    {
     "data": {
      "text/html": [
       "<div>\n",
       "<style scoped>\n",
       "    .dataframe tbody tr th:only-of-type {\n",
       "        vertical-align: middle;\n",
       "    }\n",
       "\n",
       "    .dataframe tbody tr th {\n",
       "        vertical-align: top;\n",
       "    }\n",
       "\n",
       "    .dataframe thead th {\n",
       "        text-align: right;\n",
       "    }\n",
       "</style>\n",
       "<table border=\"1\" class=\"dataframe\">\n",
       "  <thead>\n",
       "    <tr style=\"text-align: right;\">\n",
       "      <th></th>\n",
       "      <th>spx</th>\n",
       "      <th>dax</th>\n",
       "      <th>ftse</th>\n",
       "      <th>nikkei</th>\n",
       "    </tr>\n",
       "  </thead>\n",
       "  <tbody>\n",
       "    <tr>\n",
       "      <th>count</th>\n",
       "      <td>6269.000000</td>\n",
       "      <td>6269.000000</td>\n",
       "      <td>6269.000000</td>\n",
       "      <td>6269.000000</td>\n",
       "    </tr>\n",
       "    <tr>\n",
       "      <th>mean</th>\n",
       "      <td>1288.127542</td>\n",
       "      <td>6080.063363</td>\n",
       "      <td>5422.713545</td>\n",
       "      <td>14597.055700</td>\n",
       "    </tr>\n",
       "    <tr>\n",
       "      <th>std</th>\n",
       "      <td>487.586473</td>\n",
       "      <td>2754.361032</td>\n",
       "      <td>1145.572428</td>\n",
       "      <td>4043.122953</td>\n",
       "    </tr>\n",
       "    <tr>\n",
       "      <th>min</th>\n",
       "      <td>438.920000</td>\n",
       "      <td>1911.700000</td>\n",
       "      <td>2876.600000</td>\n",
       "      <td>7054.980000</td>\n",
       "    </tr>\n",
       "    <tr>\n",
       "      <th>25%</th>\n",
       "      <td>990.671905</td>\n",
       "      <td>4069.350000</td>\n",
       "      <td>4486.100000</td>\n",
       "      <td>10709.290000</td>\n",
       "    </tr>\n",
       "    <tr>\n",
       "      <th>50%</th>\n",
       "      <td>1233.420000</td>\n",
       "      <td>5773.340000</td>\n",
       "      <td>5662.430000</td>\n",
       "      <td>15028.170000</td>\n",
       "    </tr>\n",
       "    <tr>\n",
       "      <th>75%</th>\n",
       "      <td>1459.987747</td>\n",
       "      <td>7443.070000</td>\n",
       "      <td>6304.250000</td>\n",
       "      <td>17860.470000</td>\n",
       "    </tr>\n",
       "    <tr>\n",
       "      <th>max</th>\n",
       "      <td>2872.867839</td>\n",
       "      <td>13559.600000</td>\n",
       "      <td>7778.637689</td>\n",
       "      <td>24124.150000</td>\n",
       "    </tr>\n",
       "  </tbody>\n",
       "</table>\n",
       "</div>"
      ],
      "text/plain": [
       "               spx           dax         ftse        nikkei\n",
       "count  6269.000000   6269.000000  6269.000000   6269.000000\n",
       "mean   1288.127542   6080.063363  5422.713545  14597.055700\n",
       "std     487.586473   2754.361032  1145.572428   4043.122953\n",
       "min     438.920000   1911.700000  2876.600000   7054.980000\n",
       "25%     990.671905   4069.350000  4486.100000  10709.290000\n",
       "50%    1233.420000   5773.340000  5662.430000  15028.170000\n",
       "75%    1459.987747   7443.070000  6304.250000  17860.470000\n",
       "max    2872.867839  13559.600000  7778.637689  24124.150000"
      ]
     },
     "execution_count": 5,
     "metadata": {},
     "output_type": "execute_result"
    }
   ],
   "source": [
    "df.describe()"
   ]
  },
  {
   "cell_type": "code",
   "execution_count": 6,
   "metadata": {},
   "outputs": [
    {
     "data": {
      "text/plain": [
       "date      0\n",
       "spx       0\n",
       "dax       0\n",
       "ftse      0\n",
       "nikkei    0\n",
       "dtype: int64"
      ]
     },
     "execution_count": 6,
     "metadata": {},
     "output_type": "execute_result"
    }
   ],
   "source": [
    "df.isna().sum()"
   ]
  },
  {
   "cell_type": "code",
   "execution_count": 11,
   "metadata": {},
   "outputs": [
    {
     "data": {
      "image/png": "[encoded data removed]",
      "text/plain": [
       "<Figure size 1440x360 with 1 Axes>"
      ]
     },
     "metadata": {
      "needs_background": "light"
     },
     "output_type": "display_data"
    }
   ],
   "source": [
    "df.spx.plot(figsize=(20,5), title = \"S&P500 Prices\")\n",
    "plt.show()"
   ]
  },
  {
   "cell_type": "markdown",
   "metadata": {},
   "source": [
    "### QQ Plot ( QQ Plot shows if data is normally distributed. If the data follows red line it is normally distributed. Since quite some data is on 500, this time series data is not normally distributed."
   ]
  },
  {
   "cell_type": "code",
   "execution_count": 13,
   "metadata": {},
   "outputs": [
    {
     "data": {
      "image/png": "[encoded data removed]",
      "text/plain": [
       "<Figure size 432x288 with 1 Axes>"
      ]
     },
     "metadata": {
      "needs_background": "light"
     },
     "output_type": "display_data"
    }
   ],
   "source": [
    "scipy.stats.probplot(df.spx, plot=pylab)\n",
    "pylab.show()"
   ]
  },
  {
   "cell_type": "code",
   "execution_count": 14,
   "metadata": {},
   "outputs": [
    {
     "data": {
      "text/plain": [
       "count                    6269\n",
       "unique                   6269\n",
       "top       1999-08-23 00:00:00\n",
       "freq                        1\n",
       "first     1994-01-02 00:00:00\n",
       "last      2018-12-01 00:00:00\n",
       "Name: date, dtype: object"
      ]
     },
     "execution_count": 14,
     "metadata": {},
     "output_type": "execute_result"
    }
   ],
   "source": [
    "df.date.describe()"
   ]
  },
  {
   "cell_type": "code",
   "execution_count": 6,
   "metadata": {},
   "outputs": [],
   "source": [
    "df.set_index(\"date\", inplace= True)\n"
   ]
  },
  {
   "cell_type": "code",
   "execution_count": 7,
   "metadata": {},
   "outputs": [
    {
     "data": {
      "text/html": [
       "<div>\n",
       "<style scoped>\n",
       "    .dataframe tbody tr th:only-of-type {\n",
       "        vertical-align: middle;\n",
       "    }\n",
       "\n",
       "    .dataframe tbody tr th {\n",
       "        vertical-align: top;\n",
       "    }\n",
       "\n",
       "    .dataframe thead th {\n",
       "        text-align: right;\n",
       "    }\n",
       "</style>\n",
       "<table border=\"1\" class=\"dataframe\">\n",
       "  <thead>\n",
       "    <tr style=\"text-align: right;\">\n",
       "      <th></th>\n",
       "      <th>spx</th>\n",
       "      <th>dax</th>\n",
       "      <th>ftse</th>\n",
       "      <th>nikkei</th>\n",
       "    </tr>\n",
       "    <tr>\n",
       "      <th>date</th>\n",
       "      <th></th>\n",
       "      <th></th>\n",
       "      <th></th>\n",
       "      <th></th>\n",
       "    </tr>\n",
       "  </thead>\n",
       "  <tbody>\n",
       "    <tr>\n",
       "      <th>1994-07-01</th>\n",
       "      <td>469.90</td>\n",
       "      <td>2224.95</td>\n",
       "      <td>3445.98</td>\n",
       "      <td>18124.01</td>\n",
       "    </tr>\n",
       "    <tr>\n",
       "      <th>1994-10-01</th>\n",
       "      <td>475.27</td>\n",
       "      <td>2225.00</td>\n",
       "      <td>3440.58</td>\n",
       "      <td>18443.44</td>\n",
       "    </tr>\n",
       "    <tr>\n",
       "      <th>1994-11-01</th>\n",
       "      <td>474.13</td>\n",
       "      <td>2228.10</td>\n",
       "      <td>3413.77</td>\n",
       "      <td>18485.25</td>\n",
       "    </tr>\n",
       "    <tr>\n",
       "      <th>1994-12-01</th>\n",
       "      <td>474.17</td>\n",
       "      <td>2182.06</td>\n",
       "      <td>3372.02</td>\n",
       "      <td>18793.88</td>\n",
       "    </tr>\n",
       "    <tr>\n",
       "      <th>1994-01-13</th>\n",
       "      <td>472.47</td>\n",
       "      <td>2142.37</td>\n",
       "      <td>3360.01</td>\n",
       "      <td>18577.26</td>\n",
       "    </tr>\n",
       "  </tbody>\n",
       "</table>\n",
       "</div>"
      ],
      "text/plain": [
       "               spx      dax     ftse    nikkei\n",
       "date                                          \n",
       "1994-07-01  469.90  2224.95  3445.98  18124.01\n",
       "1994-10-01  475.27  2225.00  3440.58  18443.44\n",
       "1994-11-01  474.13  2228.10  3413.77  18485.25\n",
       "1994-12-01  474.17  2182.06  3372.02  18793.88\n",
       "1994-01-13  472.47  2142.37  3360.01  18577.26"
      ]
     },
     "execution_count": 7,
     "metadata": {},
     "output_type": "execute_result"
    }
   ],
   "source": [
    "df.head()"
   ]
  },
  {
   "cell_type": "markdown",
   "metadata": {},
   "source": [
    "### Setting time frequency of data - h = hourly, w = weekly, d = daily, m= monthly, a = annual, b=business days. This will handle any missing data and introduce NaN values for missing dates to set constant time frequency. Since this dataset contains only business date readings, we use b"
   ]
  },
  {
   "cell_type": "code",
   "execution_count": 8,
   "metadata": {},
   "outputs": [],
   "source": [
    "df = df.asfreq('B')"
   ]
  },
  {
   "cell_type": "code",
   "execution_count": 33,
   "metadata": {},
   "outputs": [
    {
     "data": {
      "text/html": [
       "<div>\n",
       "<style scoped>\n",
       "    .dataframe tbody tr th:only-of-type {\n",
       "        vertical-align: middle;\n",
       "    }\n",
       "\n",
       "    .dataframe tbody tr th {\n",
       "        vertical-align: top;\n",
       "    }\n",
       "\n",
       "    .dataframe thead th {\n",
       "        text-align: right;\n",
       "    }\n",
       "</style>\n",
       "<table border=\"1\" class=\"dataframe\">\n",
       "  <thead>\n",
       "    <tr style=\"text-align: right;\">\n",
       "      <th></th>\n",
       "      <th>spx</th>\n",
       "      <th>dax</th>\n",
       "      <th>ftse</th>\n",
       "      <th>nikkei</th>\n",
       "    </tr>\n",
       "    <tr>\n",
       "      <th>date</th>\n",
       "      <th></th>\n",
       "      <th></th>\n",
       "      <th></th>\n",
       "      <th></th>\n",
       "    </tr>\n",
       "  </thead>\n",
       "  <tbody>\n",
       "    <tr>\n",
       "      <th>1994-07-01</th>\n",
       "      <td>469.90</td>\n",
       "      <td>2224.95</td>\n",
       "      <td>3445.98</td>\n",
       "      <td>18124.01</td>\n",
       "    </tr>\n",
       "    <tr>\n",
       "      <th>1994-07-04</th>\n",
       "      <td>450.88</td>\n",
       "      <td>2184.89</td>\n",
       "      <td>3129.00</td>\n",
       "      <td>19890.98</td>\n",
       "    </tr>\n",
       "    <tr>\n",
       "      <th>1994-07-05</th>\n",
       "      <td>NaN</td>\n",
       "      <td>NaN</td>\n",
       "      <td>NaN</td>\n",
       "      <td>NaN</td>\n",
       "    </tr>\n",
       "    <tr>\n",
       "      <th>1994-07-06</th>\n",
       "      <td>458.21</td>\n",
       "      <td>2131.80</td>\n",
       "      <td>3004.80</td>\n",
       "      <td>21042.71</td>\n",
       "    </tr>\n",
       "    <tr>\n",
       "      <th>1994-07-07</th>\n",
       "      <td>448.38</td>\n",
       "      <td>2049.10</td>\n",
       "      <td>2964.40</td>\n",
       "      <td>20620.02</td>\n",
       "    </tr>\n",
       "  </tbody>\n",
       "</table>\n",
       "</div>"
      ],
      "text/plain": [
       "               spx      dax     ftse    nikkei\n",
       "date                                          \n",
       "1994-07-01  469.90  2224.95  3445.98  18124.01\n",
       "1994-07-04  450.88  2184.89  3129.00  19890.98\n",
       "1994-07-05     NaN      NaN      NaN       NaN\n",
       "1994-07-06  458.21  2131.80  3004.80  21042.71\n",
       "1994-07-07  448.38  2049.10  2964.40  20620.02"
      ]
     },
     "execution_count": 33,
     "metadata": {},
     "output_type": "execute_result"
    }
   ],
   "source": [
    "df.head()"
   ]
  },
  {
   "cell_type": "code",
   "execution_count": 38,
   "metadata": {},
   "outputs": [
    {
     "data": {
      "text/plain": [
       "spx         0\n",
       "dax       686\n",
       "ftse        0\n",
       "nikkei    686\n",
       "dtype: int64"
      ]
     },
     "execution_count": 38,
     "metadata": {},
     "output_type": "execute_result"
    }
   ],
   "source": [
    "df.isna().sum()"
   ]
  },
  {
   "cell_type": "markdown",
   "metadata": {},
   "source": [
    "### Handling missing data via front filling or back filling"
   ]
  },
  {
   "cell_type": "code",
   "execution_count": 9,
   "metadata": {},
   "outputs": [],
   "source": [
    "df.spx = df.spx.fillna(method = \"ffill\")"
   ]
  },
  {
   "cell_type": "code",
   "execution_count": 10,
   "metadata": {},
   "outputs": [],
   "source": [
    "df.ftse = df.ftse.fillna(method = \"bfill\")"
   ]
  },
  {
   "cell_type": "code",
   "execution_count": 11,
   "metadata": {},
   "outputs": [],
   "source": [
    "df.dax = df.dax.fillna(value = df.dax.mean())"
   ]
  },
  {
   "cell_type": "code",
   "execution_count": 12,
   "metadata": {},
   "outputs": [],
   "source": [
    "df.nikkei = df.nikkei.fillna(method = \"ffill\")"
   ]
  },
  {
   "cell_type": "code",
   "execution_count": 13,
   "metadata": {},
   "outputs": [],
   "source": [
    "df['mkt_val'] = df.spx"
   ]
  },
  {
   "cell_type": "code",
   "execution_count": 16,
   "metadata": {},
   "outputs": [
    {
     "data": {
      "text/html": [
       "<div>\n",
       "<style scoped>\n",
       "    .dataframe tbody tr th:only-of-type {\n",
       "        vertical-align: middle;\n",
       "    }\n",
       "\n",
       "    .dataframe tbody tr th {\n",
       "        vertical-align: top;\n",
       "    }\n",
       "\n",
       "    .dataframe thead th {\n",
       "        text-align: right;\n",
       "    }\n",
       "</style>\n",
       "<table border=\"1\" class=\"dataframe\">\n",
       "  <thead>\n",
       "    <tr style=\"text-align: right;\">\n",
       "      <th></th>\n",
       "      <th>spx</th>\n",
       "      <th>mkt_val</th>\n",
       "    </tr>\n",
       "    <tr>\n",
       "      <th>date</th>\n",
       "      <th></th>\n",
       "      <th></th>\n",
       "    </tr>\n",
       "  </thead>\n",
       "  <tbody>\n",
       "    <tr>\n",
       "      <th>1994-07-01</th>\n",
       "      <td>469.90</td>\n",
       "      <td>469.90</td>\n",
       "    </tr>\n",
       "    <tr>\n",
       "      <th>1994-07-04</th>\n",
       "      <td>450.88</td>\n",
       "      <td>450.88</td>\n",
       "    </tr>\n",
       "    <tr>\n",
       "      <th>1994-07-05</th>\n",
       "      <td>450.88</td>\n",
       "      <td>450.88</td>\n",
       "    </tr>\n",
       "    <tr>\n",
       "      <th>1994-07-06</th>\n",
       "      <td>458.21</td>\n",
       "      <td>458.21</td>\n",
       "    </tr>\n",
       "    <tr>\n",
       "      <th>1994-07-07</th>\n",
       "      <td>448.38</td>\n",
       "      <td>448.38</td>\n",
       "    </tr>\n",
       "  </tbody>\n",
       "</table>\n",
       "</div>"
      ],
      "text/plain": [
       "               spx  mkt_val\n",
       "date                       \n",
       "1994-07-01  469.90   469.90\n",
       "1994-07-04  450.88   450.88\n",
       "1994-07-05  450.88   450.88\n",
       "1994-07-06  458.21   458.21\n",
       "1994-07-07  448.38   448.38"
      ]
     },
     "execution_count": 16,
     "metadata": {},
     "output_type": "execute_result"
    }
   ],
   "source": [
    "df.head()"
   ]
  },
  {
   "cell_type": "code",
   "execution_count": 15,
   "metadata": {},
   "outputs": [],
   "source": [
    "del df['dax'], df['ftse'], df['nikkei']"
   ]
  },
  {
   "cell_type": "code",
   "execution_count": 17,
   "metadata": {},
   "outputs": [],
   "source": [
    "size = int(len(df)*0.8)"
   ]
  },
  {
   "cell_type": "code",
   "execution_count": 18,
   "metadata": {},
   "outputs": [],
   "source": [
    "df_train = df.iloc[:size]"
   ]
  },
  {
   "cell_type": "code",
   "execution_count": 19,
   "metadata": {},
   "outputs": [],
   "source": [
    "df_test = df.iloc[size:]"
   ]
  },
  {
   "cell_type": "code",
   "execution_count": 20,
   "metadata": {},
   "outputs": [
    {
     "data": {
      "text/html": [
       "<div>\n",
       "<style scoped>\n",
       "    .dataframe tbody tr th:only-of-type {\n",
       "        vertical-align: middle;\n",
       "    }\n",
       "\n",
       "    .dataframe tbody tr th {\n",
       "        vertical-align: top;\n",
       "    }\n",
       "\n",
       "    .dataframe thead th {\n",
       "        text-align: right;\n",
       "    }\n",
       "</style>\n",
       "<table border=\"1\" class=\"dataframe\">\n",
       "  <thead>\n",
       "    <tr style=\"text-align: right;\">\n",
       "      <th></th>\n",
       "      <th>spx</th>\n",
       "      <th>mkt_val</th>\n",
       "    </tr>\n",
       "    <tr>\n",
       "      <th>date</th>\n",
       "      <th></th>\n",
       "      <th></th>\n",
       "    </tr>\n",
       "  </thead>\n",
       "  <tbody>\n",
       "    <tr>\n",
       "      <th>2013-05-06</th>\n",
       "      <td>1608.898667</td>\n",
       "      <td>1608.898667</td>\n",
       "    </tr>\n",
       "    <tr>\n",
       "      <th>2013-05-07</th>\n",
       "      <td>1631.886903</td>\n",
       "      <td>1631.886903</td>\n",
       "    </tr>\n",
       "    <tr>\n",
       "      <th>2013-05-08</th>\n",
       "      <td>1707.137145</td>\n",
       "      <td>1707.137145</td>\n",
       "    </tr>\n",
       "    <tr>\n",
       "      <th>2013-05-09</th>\n",
       "      <td>1655.077451</td>\n",
       "      <td>1655.077451</td>\n",
       "    </tr>\n",
       "    <tr>\n",
       "      <th>2013-05-10</th>\n",
       "      <td>1655.077451</td>\n",
       "      <td>1655.077451</td>\n",
       "    </tr>\n",
       "  </tbody>\n",
       "</table>\n",
       "</div>"
      ],
      "text/plain": [
       "                    spx      mkt_val\n",
       "date                                \n",
       "2013-05-06  1608.898667  1608.898667\n",
       "2013-05-07  1631.886903  1631.886903\n",
       "2013-05-08  1707.137145  1707.137145\n",
       "2013-05-09  1655.077451  1655.077451\n",
       "2013-05-10  1655.077451  1655.077451"
      ]
     },
     "execution_count": 20,
     "metadata": {},
     "output_type": "execute_result"
    }
   ],
   "source": [
    "df_train.tail()"
   ]
  },
  {
   "cell_type": "code",
   "execution_count": 51,
   "metadata": {},
   "outputs": [
    {
     "data": {
      "text/html": [
       "<div>\n",
       "<style scoped>\n",
       "    .dataframe tbody tr th:only-of-type {\n",
       "        vertical-align: middle;\n",
       "    }\n",
       "\n",
       "    .dataframe tbody tr th {\n",
       "        vertical-align: top;\n",
       "    }\n",
       "\n",
       "    .dataframe thead th {\n",
       "        text-align: right;\n",
       "    }\n",
       "</style>\n",
       "<table border=\"1\" class=\"dataframe\">\n",
       "  <thead>\n",
       "    <tr style=\"text-align: right;\">\n",
       "      <th></th>\n",
       "      <th>mkt_val</th>\n",
       "    </tr>\n",
       "    <tr>\n",
       "      <th>date</th>\n",
       "      <th></th>\n",
       "    </tr>\n",
       "  </thead>\n",
       "  <tbody>\n",
       "    <tr>\n",
       "      <th>2013-05-13</th>\n",
       "      <td>1633.766242</td>\n",
       "    </tr>\n",
       "    <tr>\n",
       "      <th>2013-05-14</th>\n",
       "      <td>1650.339864</td>\n",
       "    </tr>\n",
       "    <tr>\n",
       "      <th>2013-05-15</th>\n",
       "      <td>1658.784662</td>\n",
       "    </tr>\n",
       "    <tr>\n",
       "      <th>2013-05-16</th>\n",
       "      <td>1650.473712</td>\n",
       "    </tr>\n",
       "    <tr>\n",
       "      <th>2013-05-17</th>\n",
       "      <td>1667.471448</td>\n",
       "    </tr>\n",
       "  </tbody>\n",
       "</table>\n",
       "</div>"
      ],
      "text/plain": [
       "                mkt_val\n",
       "date                   \n",
       "2013-05-13  1633.766242\n",
       "2013-05-14  1650.339864\n",
       "2013-05-15  1658.784662\n",
       "2013-05-16  1650.473712\n",
       "2013-05-17  1667.471448"
      ]
     },
     "execution_count": 51,
     "metadata": {},
     "output_type": "execute_result"
    }
   ],
   "source": [
    "df_test.head()"
   ]
  },
  {
   "cell_type": "markdown",
   "metadata": {},
   "source": [
    "### Stationarity"
   ]
  },
  {
   "cell_type": "code",
   "execution_count": 53,
   "metadata": {},
   "outputs": [
    {
     "data": {
      "text/plain": [
       "(-1.6778004834242133,\n",
       " 0.442585096021205,\n",
       " 23,\n",
       " 4897,\n",
       " {'1%': -3.43168606925165,\n",
       "  '5%': -2.862130395401403,\n",
       "  '10%': -2.5670842686576476},\n",
       " 50987.24519670836)"
      ]
     },
     "execution_count": 53,
     "metadata": {},
     "output_type": "execute_result"
    }
   ],
   "source": [
    "sts.adfuller(df_train.mkt_val)"
   ]
  },
  {
   "cell_type": "markdown",
   "metadata": {},
   "source": [
    "### As per Dickey-Fuller test, if test statistic (-1.677800 in this case) is < threshold (5% = -2.862 in this case) then we reject the null hypothesisand conclude that sample comes from stationary dataset. Since that is not the case here, we cannot prove that data is stationary. The second value (0.442585) represents the p-value"
   ]
  },
  {
   "cell_type": "markdown",
   "metadata": {},
   "source": [
    "### ACF"
   ]
  },
  {
   "cell_type": "code",
   "execution_count": 56,
   "metadata": {},
   "outputs": [
    {
     "data": {
      "image/png": "[encoded data removed]",
      "text/plain": [
       "<Figure size 432x288 with 1 Axes>"
      ]
     },
     "metadata": {
      "needs_background": "light"
     },
     "output_type": "display_data"
    }
   ],
   "source": [
    "sgt.plot_acf(df_train.mkt_val, zero = False, lags = 40 )\n",
    "plt.title(\"ACF for Prices - S&P500\", size = 20)\n",
    "plt.show()"
   ]
  },
  {
   "cell_type": "code",
   "execution_count": null,
   "metadata": {},
   "outputs": [],
   "source": []
  },
  {
   "cell_type": "markdown",
   "metadata": {},
   "source": [
    "### PACF"
   ]
  },
  {
   "cell_type": "code",
   "execution_count": 57,
   "metadata": {},
   "outputs": [
    {
     "data": {
      "image/png": "[encoded data removed]",
      "text/plain": [
       "<Figure size 432x288 with 1 Axes>"
      ]
     },
     "metadata": {
      "needs_background": "light"
     },
     "output_type": "display_data"
    }
   ],
   "source": [
    "sgt.plot_pacf(df_train.mkt_val, zero = False, lags = 40, alpha = 0.05, method = ('ols') )\n",
    "plt.title(\"PACF for Prices - S&P500\", size = 20)\n",
    "plt.show()"
   ]
  },
  {
   "cell_type": "markdown",
   "metadata": {},
   "source": [
    "### As visible from PACF graph, co-efficients from lag 25 onwards are too close to zero and hence their impact on the model is minimal. Hence we can ignore them. There are negative co-efficients from lag 22 onwards. This is because there are roughly 22 business days in a month and the graph indicates there are cyclical changes every month. The values a month ago, negatively affect the values today. However the most impact to the model is from lag 1. "
   ]
  },
  {
   "cell_type": "markdown",
   "metadata": {},
   "source": [
    "#### The AR(1) Model"
   ]
  },
  {
   "cell_type": "code",
   "execution_count": 24,
   "metadata": {},
   "outputs": [],
   "source": [
    "model_ar = ARMA(df_train.mkt_val, order = (1,0))  \n",
    "### here 0 represents that we are not taking residuals under consideration"
   ]
  },
  {
   "cell_type": "code",
   "execution_count": 25,
   "metadata": {},
   "outputs": [],
   "source": [
    "results_ar = model_ar.fit()"
   ]
  },
  {
   "cell_type": "code",
   "execution_count": 26,
   "metadata": {},
   "outputs": [
    {
     "data": {
      "text/html": [
       "<table class=\"simpletable\">\n",
       "<caption>ARMA Model Results</caption>\n",
       "<tr>\n",
       "  <th>Dep. Variable:</th>      <td>mkt_val</td>     <th>  No. Observations:  </th>    <td>4921</td>   \n",
       "</tr>\n",
       "<tr>\n",
       "  <th>Model:</th>            <td>ARMA(1, 0)</td>    <th>  Log Likelihood     </th> <td>-26298.962</td>\n",
       "</tr>\n",
       "<tr>\n",
       "  <th>Method:</th>             <td>css-mle</td>     <th>  S.D. of innovations</th>   <td>50.650</td>  \n",
       "</tr>\n",
       "<tr>\n",
       "  <th>Date:</th>          <td>Mon, 15 Nov 2021</td> <th>  AIC                </th>  <td>52603.923</td>\n",
       "</tr>\n",
       "<tr>\n",
       "  <th>Time:</th>              <td>10:59:35</td>     <th>  BIC                </th>  <td>52623.427</td>\n",
       "</tr>\n",
       "<tr>\n",
       "  <th>Sample:</th>           <td>07-01-1994</td>    <th>  HQIC               </th>  <td>52610.764</td>\n",
       "</tr>\n",
       "<tr>\n",
       "  <th></th>                 <td>- 05-10-2013</td>   <th>                     </th>      <td> </td>    \n",
       "</tr>\n",
       "</table>\n",
       "<table class=\"simpletable\">\n",
       "<tr>\n",
       "        <td></td>           <th>coef</th>     <th>std err</th>      <th>z</th>      <th>P>|z|</th>  <th>[0.025</th>    <th>0.975]</th>  \n",
       "</tr>\n",
       "<tr>\n",
       "  <th>const</th>         <td> 1108.2823</td> <td>   45.442</td> <td>   24.389</td> <td> 0.000</td> <td> 1019.217</td> <td> 1197.347</td>\n",
       "</tr>\n",
       "<tr>\n",
       "  <th>ar.L1.mkt_val</th> <td>    0.9843</td> <td>    0.003</td> <td>  385.203</td> <td> 0.000</td> <td>    0.979</td> <td>    0.989</td>\n",
       "</tr>\n",
       "</table>\n",
       "<table class=\"simpletable\">\n",
       "<caption>Roots</caption>\n",
       "<tr>\n",
       "    <td></td>   <th>            Real</th>  <th>         Imaginary</th> <th>         Modulus</th>  <th>        Frequency</th>\n",
       "</tr>\n",
       "<tr>\n",
       "  <th>AR.1</th> <td>           1.0159</td> <td>          +0.0000j</td> <td>           1.0159</td> <td>           0.0000</td>\n",
       "</tr>\n",
       "</table>"
      ],
      "text/plain": [
       "<class 'statsmodels.iolib.summary.Summary'>\n",
       "\"\"\"\n",
       "                              ARMA Model Results                              \n",
       "==============================================================================\n",
       "Dep. Variable:                mkt_val   No. Observations:                 4921\n",
       "Model:                     ARMA(1, 0)   Log Likelihood              -26298.962\n",
       "Method:                       css-mle   S.D. of innovations             50.650\n",
       "Date:                Mon, 15 Nov 2021   AIC                          52603.923\n",
       "Time:                        10:59:35   BIC                          52623.427\n",
       "Sample:                    07-01-1994   HQIC                         52610.764\n",
       "                         - 05-10-2013                                         \n",
       "=================================================================================\n",
       "                    coef    std err          z      P>|z|      [0.025      0.975]\n",
       "---------------------------------------------------------------------------------\n",
       "const          1108.2823     45.442     24.389      0.000    1019.217    1197.347\n",
       "ar.L1.mkt_val     0.9843      0.003    385.203      0.000       0.979       0.989\n",
       "                                    Roots                                    \n",
       "=============================================================================\n",
       "                  Real          Imaginary           Modulus         Frequency\n",
       "-----------------------------------------------------------------------------\n",
       "AR.1            1.0159           +0.0000j            1.0159            0.0000\n",
       "-----------------------------------------------------------------------------\n",
       "\"\"\""
      ]
     },
     "execution_count": 26,
     "metadata": {},
     "output_type": "execute_result"
    }
   ],
   "source": [
    "results_ar.summary()"
   ]
  },
  {
   "cell_type": "code",
   "execution_count": 27,
   "metadata": {},
   "outputs": [
    {
     "data": {
      "text/html": [
       "<table class=\"simpletable\">\n",
       "<caption>ARMA Model Results</caption>\n",
       "<tr>\n",
       "  <th>Dep. Variable:</th>      <td>mkt_val</td>     <th>  No. Observations:  </th>    <td>4921</td>   \n",
       "</tr>\n",
       "<tr>\n",
       "  <th>Model:</th>            <td>ARMA(2, 0)</td>    <th>  Log Likelihood     </th> <td>-26258.760</td>\n",
       "</tr>\n",
       "<tr>\n",
       "  <th>Method:</th>             <td>css-mle</td>     <th>  S.D. of innovations</th>   <td>50.238</td>  \n",
       "</tr>\n",
       "<tr>\n",
       "  <th>Date:</th>          <td>Mon, 15 Nov 2021</td> <th>  AIC                </th>  <td>52525.519</td>\n",
       "</tr>\n",
       "<tr>\n",
       "  <th>Time:</th>              <td>10:59:40</td>     <th>  BIC                </th>  <td>52551.525</td>\n",
       "</tr>\n",
       "<tr>\n",
       "  <th>Sample:</th>           <td>07-01-1994</td>    <th>  HQIC               </th>  <td>52534.641</td>\n",
       "</tr>\n",
       "<tr>\n",
       "  <th></th>                 <td>- 05-10-2013</td>   <th>                     </th>      <td> </td>    \n",
       "</tr>\n",
       "</table>\n",
       "<table class=\"simpletable\">\n",
       "<tr>\n",
       "        <td></td>           <th>coef</th>     <th>std err</th>      <th>z</th>      <th>P>|z|</th>  <th>[0.025</th>    <th>0.975]</th>  \n",
       "</tr>\n",
       "<tr>\n",
       "  <th>const</th>         <td> 1108.2737</td> <td>   52.111</td> <td>   21.268</td> <td> 0.000</td> <td> 1006.139</td> <td> 1210.409</td>\n",
       "</tr>\n",
       "<tr>\n",
       "  <th>ar.L1.mkt_val</th> <td>    0.8591</td> <td>    0.014</td> <td>   60.771</td> <td> 0.000</td> <td>    0.831</td> <td>    0.887</td>\n",
       "</tr>\n",
       "<tr>\n",
       "  <th>ar.L2.mkt_val</th> <td>    0.1274</td> <td>    0.014</td> <td>    9.004</td> <td> 0.000</td> <td>    0.100</td> <td>    0.155</td>\n",
       "</tr>\n",
       "</table>\n",
       "<table class=\"simpletable\">\n",
       "<caption>Roots</caption>\n",
       "<tr>\n",
       "    <td></td>   <th>            Real</th>  <th>         Imaginary</th> <th>         Modulus</th>  <th>        Frequency</th>\n",
       "</tr>\n",
       "<tr>\n",
       "  <th>AR.1</th> <td>           1.0121</td> <td>          +0.0000j</td> <td>           1.0121</td> <td>           0.0000</td>\n",
       "</tr>\n",
       "<tr>\n",
       "  <th>AR.2</th> <td>          -7.7554</td> <td>          +0.0000j</td> <td>           7.7554</td> <td>           0.5000</td>\n",
       "</tr>\n",
       "</table>"
      ],
      "text/plain": [
       "<class 'statsmodels.iolib.summary.Summary'>\n",
       "\"\"\"\n",
       "                              ARMA Model Results                              \n",
       "==============================================================================\n",
       "Dep. Variable:                mkt_val   No. Observations:                 4921\n",
       "Model:                     ARMA(2, 0)   Log Likelihood              -26258.760\n",
       "Method:                       css-mle   S.D. of innovations             50.238\n",
       "Date:                Mon, 15 Nov 2021   AIC                          52525.519\n",
       "Time:                        10:59:40   BIC                          52551.525\n",
       "Sample:                    07-01-1994   HQIC                         52534.641\n",
       "                         - 05-10-2013                                         \n",
       "=================================================================================\n",
       "                    coef    std err          z      P>|z|      [0.025      0.975]\n",
       "---------------------------------------------------------------------------------\n",
       "const          1108.2737     52.111     21.268      0.000    1006.139    1210.409\n",
       "ar.L1.mkt_val     0.8591      0.014     60.771      0.000       0.831       0.887\n",
       "ar.L2.mkt_val     0.1274      0.014      9.004      0.000       0.100       0.155\n",
       "                                    Roots                                    \n",
       "=============================================================================\n",
       "                  Real          Imaginary           Modulus         Frequency\n",
       "-----------------------------------------------------------------------------\n",
       "AR.1            1.0121           +0.0000j            1.0121            0.0000\n",
       "AR.2           -7.7554           +0.0000j            7.7554            0.5000\n",
       "-----------------------------------------------------------------------------\n",
       "\"\"\""
      ]
     },
     "execution_count": 27,
     "metadata": {},
     "output_type": "execute_result"
    }
   ],
   "source": [
    "model_ar2 = ARMA(df_train.mkt_val, order = (2,0))  \n",
    "results_ar2 = model_ar2.fit()\n",
    "results_ar2.summary()"
   ]
  },
  {
   "cell_type": "code",
   "execution_count": 28,
   "metadata": {},
   "outputs": [
    {
     "data": {
      "text/html": [
       "<table class=\"simpletable\">\n",
       "<caption>ARMA Model Results</caption>\n",
       "<tr>\n",
       "  <th>Dep. Variable:</th>      <td>mkt_val</td>     <th>  No. Observations:  </th>    <td>4921</td>   \n",
       "</tr>\n",
       "<tr>\n",
       "  <th>Model:</th>            <td>ARMA(4, 0)</td>    <th>  Log Likelihood     </th> <td>-26220.708</td>\n",
       "</tr>\n",
       "<tr>\n",
       "  <th>Method:</th>             <td>css-mle</td>     <th>  S.D. of innovations</th>   <td>49.850</td>  \n",
       "</tr>\n",
       "<tr>\n",
       "  <th>Date:</th>          <td>Mon, 15 Nov 2021</td> <th>  AIC                </th>  <td>52453.416</td>\n",
       "</tr>\n",
       "<tr>\n",
       "  <th>Time:</th>              <td>10:59:43</td>     <th>  BIC                </th>  <td>52492.424</td>\n",
       "</tr>\n",
       "<tr>\n",
       "  <th>Sample:</th>           <td>07-01-1994</td>    <th>  HQIC               </th>  <td>52467.099</td>\n",
       "</tr>\n",
       "<tr>\n",
       "  <th></th>                 <td>- 05-10-2013</td>   <th>                     </th>      <td> </td>    \n",
       "</tr>\n",
       "</table>\n",
       "<table class=\"simpletable\">\n",
       "<tr>\n",
       "        <td></td>           <th>coef</th>     <th>std err</th>      <th>z</th>      <th>P>|z|</th>  <th>[0.025</th>    <th>0.975]</th>  \n",
       "</tr>\n",
       "<tr>\n",
       "  <th>const</th>         <td> 1109.0954</td> <td>   63.297</td> <td>   17.522</td> <td> 0.000</td> <td>  985.036</td> <td> 1233.155</td>\n",
       "</tr>\n",
       "<tr>\n",
       "  <th>ar.L1.mkt_val</th> <td>    0.8404</td> <td>    0.014</td> <td>   59.197</td> <td> 0.000</td> <td>    0.813</td> <td>    0.868</td>\n",
       "</tr>\n",
       "<tr>\n",
       "  <th>ar.L2.mkt_val</th> <td>    0.0484</td> <td>    0.019</td> <td>    2.608</td> <td> 0.009</td> <td>    0.012</td> <td>    0.085</td>\n",
       "</tr>\n",
       "<tr>\n",
       "  <th>ar.L3.mkt_val</th> <td>    0.0112</td> <td>    0.019</td> <td>    0.601</td> <td> 0.548</td> <td>   -0.025</td> <td>    0.048</td>\n",
       "</tr>\n",
       "<tr>\n",
       "  <th>ar.L4.mkt_val</th> <td>    0.0891</td> <td>    0.014</td> <td>    6.269</td> <td> 0.000</td> <td>    0.061</td> <td>    0.117</td>\n",
       "</tr>\n",
       "</table>\n",
       "<table class=\"simpletable\">\n",
       "<caption>Roots</caption>\n",
       "<tr>\n",
       "    <td></td>   <th>            Real</th>  <th>         Imaginary</th> <th>         Modulus</th>  <th>        Frequency</th>\n",
       "</tr>\n",
       "<tr>\n",
       "  <th>AR.1</th> <td>           1.0082</td> <td>          -0.0000j</td> <td>           1.0082</td> <td>          -0.0000</td>\n",
       "</tr>\n",
       "<tr>\n",
       "  <th>AR.2</th> <td>           0.6255</td> <td>          -2.0684j</td> <td>           2.1609</td> <td>          -0.2033</td>\n",
       "</tr>\n",
       "<tr>\n",
       "  <th>AR.3</th> <td>           0.6255</td> <td>          +2.0684j</td> <td>           2.1609</td> <td>           0.2033</td>\n",
       "</tr>\n",
       "<tr>\n",
       "  <th>AR.4</th> <td>          -2.3845</td> <td>          -0.0000j</td> <td>           2.3845</td> <td>          -0.5000</td>\n",
       "</tr>\n",
       "</table>"
      ],
      "text/plain": [
       "<class 'statsmodels.iolib.summary.Summary'>\n",
       "\"\"\"\n",
       "                              ARMA Model Results                              \n",
       "==============================================================================\n",
       "Dep. Variable:                mkt_val   No. Observations:                 4921\n",
       "Model:                     ARMA(4, 0)   Log Likelihood              -26220.708\n",
       "Method:                       css-mle   S.D. of innovations             49.850\n",
       "Date:                Mon, 15 Nov 2021   AIC                          52453.416\n",
       "Time:                        10:59:43   BIC                          52492.424\n",
       "Sample:                    07-01-1994   HQIC                         52467.099\n",
       "                         - 05-10-2013                                         \n",
       "=================================================================================\n",
       "                    coef    std err          z      P>|z|      [0.025      0.975]\n",
       "---------------------------------------------------------------------------------\n",
       "const          1109.0954     63.297     17.522      0.000     985.036    1233.155\n",
       "ar.L1.mkt_val     0.8404      0.014     59.197      0.000       0.813       0.868\n",
       "ar.L2.mkt_val     0.0484      0.019      2.608      0.009       0.012       0.085\n",
       "ar.L3.mkt_val     0.0112      0.019      0.601      0.548      -0.025       0.048\n",
       "ar.L4.mkt_val     0.0891      0.014      6.269      0.000       0.061       0.117\n",
       "                                    Roots                                    \n",
       "=============================================================================\n",
       "                  Real          Imaginary           Modulus         Frequency\n",
       "-----------------------------------------------------------------------------\n",
       "AR.1            1.0082           -0.0000j            1.0082           -0.0000\n",
       "AR.2            0.6255           -2.0684j            2.1609           -0.2033\n",
       "AR.3            0.6255           +2.0684j            2.1609            0.2033\n",
       "AR.4           -2.3845           -0.0000j            2.3845           -0.5000\n",
       "-----------------------------------------------------------------------------\n",
       "\"\"\""
      ]
     },
     "execution_count": 28,
     "metadata": {},
     "output_type": "execute_result"
    }
   ],
   "source": [
    "model_ar4 = ARMA(df_train.mkt_val, order = (4,0))  \n",
    "results_ar4 = model_ar4.fit()\n",
    "results_ar4.summary()"
   ]
  },
  {
   "cell_type": "markdown",
   "metadata": {},
   "source": [
    "### Since log likelihood has been increasing with each model and information criteria (AIC, BIC & HQIC) has been decreasing (this is desired), we need to do the log likelihood ratio test to identify which is the best model out ot the 3 (model_ar1, model_ar2, model_ar4) or if the 3 models are significantly different"
   ]
  },
  {
   "cell_type": "code",
   "execution_count": 32,
   "metadata": {},
   "outputs": [],
   "source": [
    "def LLR (model_1, model_2, DF = 1):  ### DF is degrees of freedom\n",
    "    L1 = model_1.fit().llf\n",
    "    L2 = model_2.fit().llf\n",
    "    LR = 2*(L2-L1)\n",
    "    p = chi2.sf(LR, DF).round(5)\n",
    "    return p\n",
    "    "
   ]
  },
  {
   "cell_type": "code",
   "execution_count": 33,
   "metadata": {},
   "outputs": [
    {
     "data": {
      "text/plain": [
       "0.0"
      ]
     },
     "execution_count": 33,
     "metadata": {},
     "output_type": "execute_result"
    }
   ],
   "source": [
    "LLR(model_ar, model_ar2)"
   ]
  },
  {
   "cell_type": "code",
   "execution_count": 34,
   "metadata": {},
   "outputs": [
    {
     "data": {
      "text/plain": [
       "0.0"
      ]
     },
     "execution_count": 34,
     "metadata": {},
     "output_type": "execute_result"
    }
   ],
   "source": [
    "LLR(model_ar2, model_ar4)"
   ]
  },
  {
   "cell_type": "markdown",
   "metadata": {},
   "source": [
    "### This shows that models are significantly different from each other (p value is less)"
   ]
  },
  {
   "cell_type": "markdown",
   "metadata": {},
   "source": [
    "### We continue with higher models till 2 conditions are satisfied - \n",
    "### 1. non-significant p-value for LLR Test \n",
    "### 2. non-significant p-value for highest lag co-efficients"
   ]
  },
  {
   "cell_type": "code",
   "execution_count": 39,
   "metadata": {},
   "outputs": [
    {
     "data": {
      "text/html": [
       "<table class=\"simpletable\">\n",
       "<caption>ARMA Model Results</caption>\n",
       "<tr>\n",
       "  <th>Dep. Variable:</th>      <td>mkt_val</td>     <th>  No. Observations:  </th>    <td>4921</td>   \n",
       "</tr>\n",
       "<tr>\n",
       "  <th>Model:</th>            <td>ARMA(14, 0)</td>   <th>  Log Likelihood     </th> <td>-26077.031</td>\n",
       "</tr>\n",
       "<tr>\n",
       "  <th>Method:</th>             <td>css-mle</td>     <th>  S.D. of innovations</th>   <td>48.412</td>  \n",
       "</tr>\n",
       "<tr>\n",
       "  <th>Date:</th>          <td>Mon, 15 Nov 2021</td> <th>  AIC                </th>  <td>52186.062</td>\n",
       "</tr>\n",
       "<tr>\n",
       "  <th>Time:</th>              <td>11:10:01</td>     <th>  BIC                </th>  <td>52290.082</td>\n",
       "</tr>\n",
       "<tr>\n",
       "  <th>Sample:</th>           <td>07-01-1994</td>    <th>  HQIC               </th>  <td>52222.549</td>\n",
       "</tr>\n",
       "<tr>\n",
       "  <th></th>                 <td>- 05-10-2013</td>   <th>                     </th>      <td> </td>    \n",
       "</tr>\n",
       "</table>\n",
       "<table class=\"simpletable\">\n",
       "<tr>\n",
       "         <td></td>           <th>coef</th>     <th>std err</th>      <th>z</th>      <th>P>|z|</th>  <th>[0.025</th>    <th>0.975]</th>  \n",
       "</tr>\n",
       "<tr>\n",
       "  <th>const</th>          <td> 1099.7866</td> <td>  153.236</td> <td>    7.177</td> <td> 0.000</td> <td>  799.450</td> <td> 1400.123</td>\n",
       "</tr>\n",
       "<tr>\n",
       "  <th>ar.L1.mkt_val</th>  <td>    0.7826</td> <td>    0.014</td> <td>   54.924</td> <td> 0.000</td> <td>    0.755</td> <td>    0.810</td>\n",
       "</tr>\n",
       "<tr>\n",
       "  <th>ar.L2.mkt_val</th>  <td>    0.0363</td> <td>    0.018</td> <td>    2.005</td> <td> 0.045</td> <td>    0.001</td> <td>    0.072</td>\n",
       "</tr>\n",
       "<tr>\n",
       "  <th>ar.L3.mkt_val</th>  <td>   -0.0040</td> <td>    0.018</td> <td>   -0.219</td> <td> 0.827</td> <td>   -0.039</td> <td>    0.032</td>\n",
       "</tr>\n",
       "<tr>\n",
       "  <th>ar.L4.mkt_val</th>  <td>   -0.0136</td> <td>    0.018</td> <td>   -0.749</td> <td> 0.454</td> <td>   -0.049</td> <td>    0.022</td>\n",
       "</tr>\n",
       "<tr>\n",
       "  <th>ar.L5.mkt_val</th>  <td>    0.0374</td> <td>    0.018</td> <td>    2.066</td> <td> 0.039</td> <td>    0.002</td> <td>    0.073</td>\n",
       "</tr>\n",
       "<tr>\n",
       "  <th>ar.L6.mkt_val</th>  <td>    0.0146</td> <td>    0.018</td> <td>    0.807</td> <td> 0.420</td> <td>   -0.021</td> <td>    0.050</td>\n",
       "</tr>\n",
       "<tr>\n",
       "  <th>ar.L7.mkt_val</th>  <td>   -0.0379</td> <td>    0.018</td> <td>   -2.096</td> <td> 0.036</td> <td>   -0.073</td> <td>   -0.002</td>\n",
       "</tr>\n",
       "<tr>\n",
       "  <th>ar.L8.mkt_val</th>  <td>    0.0578</td> <td>    0.018</td> <td>    3.198</td> <td> 0.001</td> <td>    0.022</td> <td>    0.093</td>\n",
       "</tr>\n",
       "<tr>\n",
       "  <th>ar.L9.mkt_val</th>  <td>    0.0228</td> <td>    0.018</td> <td>    1.259</td> <td> 0.208</td> <td>   -0.013</td> <td>    0.058</td>\n",
       "</tr>\n",
       "<tr>\n",
       "  <th>ar.L10.mkt_val</th> <td>    0.0149</td> <td>    0.018</td> <td>    0.824</td> <td> 0.410</td> <td>   -0.021</td> <td>    0.050</td>\n",
       "</tr>\n",
       "<tr>\n",
       "  <th>ar.L11.mkt_val</th> <td>    0.0073</td> <td>    0.018</td> <td>    0.402</td> <td> 0.687</td> <td>   -0.028</td> <td>    0.043</td>\n",
       "</tr>\n",
       "<tr>\n",
       "  <th>ar.L12.mkt_val</th> <td>    0.0366</td> <td>    0.018</td> <td>    2.021</td> <td> 0.043</td> <td>    0.001</td> <td>    0.072</td>\n",
       "</tr>\n",
       "<tr>\n",
       "  <th>ar.L13.mkt_val</th> <td>    0.0141</td> <td>    0.018</td> <td>    0.779</td> <td> 0.436</td> <td>   -0.021</td> <td>    0.050</td>\n",
       "</tr>\n",
       "<tr>\n",
       "  <th>ar.L14.mkt_val</th> <td>    0.0271</td> <td>    0.014</td> <td>    1.903</td> <td> 0.057</td> <td>   -0.001</td> <td>    0.055</td>\n",
       "</tr>\n",
       "</table>\n",
       "<table class=\"simpletable\">\n",
       "<caption>Roots</caption>\n",
       "<tr>\n",
       "    <td></td>    <th>            Real</th>  <th>         Imaginary</th> <th>         Modulus</th>  <th>        Frequency</th>\n",
       "</tr>\n",
       "<tr>\n",
       "  <th>AR.1</th>  <td>           1.0015</td> <td>          -0.0000j</td> <td>           1.0015</td> <td>          -0.0000</td>\n",
       "</tr>\n",
       "<tr>\n",
       "  <th>AR.2</th>  <td>           1.0421</td> <td>          -0.4872j</td> <td>           1.1504</td> <td>          -0.0696</td>\n",
       "</tr>\n",
       "<tr>\n",
       "  <th>AR.3</th>  <td>           1.0421</td> <td>          +0.4872j</td> <td>           1.1504</td> <td>           0.0696</td>\n",
       "</tr>\n",
       "<tr>\n",
       "  <th>AR.4</th>  <td>           0.8287</td> <td>          -0.9717j</td> <td>           1.2771</td> <td>          -0.1376</td>\n",
       "</tr>\n",
       "<tr>\n",
       "  <th>AR.5</th>  <td>           0.8287</td> <td>          +0.9717j</td> <td>           1.2771</td> <td>           0.1376</td>\n",
       "</tr>\n",
       "<tr>\n",
       "  <th>AR.6</th>  <td>           0.2991</td> <td>          -1.2679j</td> <td>           1.3027</td> <td>          -0.2131</td>\n",
       "</tr>\n",
       "<tr>\n",
       "  <th>AR.7</th>  <td>           0.2991</td> <td>          +1.2679j</td> <td>           1.3027</td> <td>           0.2131</td>\n",
       "</tr>\n",
       "<tr>\n",
       "  <th>AR.8</th>  <td>          -1.3010</td> <td>          -0.0000j</td> <td>           1.3010</td> <td>          -0.5000</td>\n",
       "</tr>\n",
       "<tr>\n",
       "  <th>AR.9</th>  <td>          -1.2118</td> <td>          -0.6683j</td> <td>           1.3838</td> <td>          -0.4198</td>\n",
       "</tr>\n",
       "<tr>\n",
       "  <th>AR.10</th> <td>          -1.2118</td> <td>          +0.6683j</td> <td>           1.3838</td> <td>           0.4198</td>\n",
       "</tr>\n",
       "<tr>\n",
       "  <th>AR.11</th> <td>          -0.7817</td> <td>          -1.0886j</td> <td>           1.3402</td> <td>          -0.3491</td>\n",
       "</tr>\n",
       "<tr>\n",
       "  <th>AR.12</th> <td>          -0.7817</td> <td>          +1.0886j</td> <td>           1.3402</td> <td>           0.3491</td>\n",
       "</tr>\n",
       "<tr>\n",
       "  <th>AR.13</th> <td>          -0.2863</td> <td>          -1.4710j</td> <td>           1.4986</td> <td>          -0.2806</td>\n",
       "</tr>\n",
       "<tr>\n",
       "  <th>AR.14</th> <td>          -0.2863</td> <td>          +1.4710j</td> <td>           1.4986</td> <td>           0.2806</td>\n",
       "</tr>\n",
       "</table>"
      ],
      "text/plain": [
       "<class 'statsmodels.iolib.summary.Summary'>\n",
       "\"\"\"\n",
       "                              ARMA Model Results                              \n",
       "==============================================================================\n",
       "Dep. Variable:                mkt_val   No. Observations:                 4921\n",
       "Model:                    ARMA(14, 0)   Log Likelihood              -26077.031\n",
       "Method:                       css-mle   S.D. of innovations             48.412\n",
       "Date:                Mon, 15 Nov 2021   AIC                          52186.062\n",
       "Time:                        11:10:01   BIC                          52290.082\n",
       "Sample:                    07-01-1994   HQIC                         52222.549\n",
       "                         - 05-10-2013                                         \n",
       "==================================================================================\n",
       "                     coef    std err          z      P>|z|      [0.025      0.975]\n",
       "----------------------------------------------------------------------------------\n",
       "const           1099.7866    153.236      7.177      0.000     799.450    1400.123\n",
       "ar.L1.mkt_val      0.7826      0.014     54.924      0.000       0.755       0.810\n",
       "ar.L2.mkt_val      0.0363      0.018      2.005      0.045       0.001       0.072\n",
       "ar.L3.mkt_val     -0.0040      0.018     -0.219      0.827      -0.039       0.032\n",
       "ar.L4.mkt_val     -0.0136      0.018     -0.749      0.454      -0.049       0.022\n",
       "ar.L5.mkt_val      0.0374      0.018      2.066      0.039       0.002       0.073\n",
       "ar.L6.mkt_val      0.0146      0.018      0.807      0.420      -0.021       0.050\n",
       "ar.L7.mkt_val     -0.0379      0.018     -2.096      0.036      -0.073      -0.002\n",
       "ar.L8.mkt_val      0.0578      0.018      3.198      0.001       0.022       0.093\n",
       "ar.L9.mkt_val      0.0228      0.018      1.259      0.208      -0.013       0.058\n",
       "ar.L10.mkt_val     0.0149      0.018      0.824      0.410      -0.021       0.050\n",
       "ar.L11.mkt_val     0.0073      0.018      0.402      0.687      -0.028       0.043\n",
       "ar.L12.mkt_val     0.0366      0.018      2.021      0.043       0.001       0.072\n",
       "ar.L13.mkt_val     0.0141      0.018      0.779      0.436      -0.021       0.050\n",
       "ar.L14.mkt_val     0.0271      0.014      1.903      0.057      -0.001       0.055\n",
       "                                    Roots                                     \n",
       "==============================================================================\n",
       "                   Real          Imaginary           Modulus         Frequency\n",
       "------------------------------------------------------------------------------\n",
       "AR.1             1.0015           -0.0000j            1.0015           -0.0000\n",
       "AR.2             1.0421           -0.4872j            1.1504           -0.0696\n",
       "AR.3             1.0421           +0.4872j            1.1504            0.0696\n",
       "AR.4             0.8287           -0.9717j            1.2771           -0.1376\n",
       "AR.5             0.8287           +0.9717j            1.2771            0.1376\n",
       "AR.6             0.2991           -1.2679j            1.3027           -0.2131\n",
       "AR.7             0.2991           +1.2679j            1.3027            0.2131\n",
       "AR.8            -1.3010           -0.0000j            1.3010           -0.5000\n",
       "AR.9            -1.2118           -0.6683j            1.3838           -0.4198\n",
       "AR.10           -1.2118           +0.6683j            1.3838            0.4198\n",
       "AR.11           -0.7817           -1.0886j            1.3402           -0.3491\n",
       "AR.12           -0.7817           +1.0886j            1.3402            0.3491\n",
       "AR.13           -0.2863           -1.4710j            1.4986           -0.2806\n",
       "AR.14           -0.2863           +1.4710j            1.4986            0.2806\n",
       "------------------------------------------------------------------------------\n",
       "\"\"\""
      ]
     },
     "execution_count": 39,
     "metadata": {},
     "output_type": "execute_result"
    }
   ],
   "source": [
    "model_ar14 = ARMA(df_train.mkt_val, order = (14,0))  \n",
    "results_ar14 = model_ar14.fit()\n",
    "results_ar14.summary()"
   ]
  },
  {
   "cell_type": "code",
   "execution_count": 40,
   "metadata": {},
   "outputs": [
    {
     "name": "stdout",
     "output_type": "stream",
     "text": [
      "                              ARMA Model Results                              \n",
      "==============================================================================\n",
      "Dep. Variable:                mkt_val   No. Observations:                 4921\n",
      "Model:                    ARMA(15, 0)   Log Likelihood              -26067.046\n",
      "Method:                       css-mle   S.D. of innovations             48.314\n",
      "Date:                Mon, 15 Nov 2021   AIC                          52168.093\n",
      "Time:                        11:11:04   BIC                          52278.614\n",
      "Sample:                    07-01-1994   HQIC                         52206.860\n",
      "                         - 05-10-2013                                         \n",
      "==================================================================================\n",
      "                     coef    std err          z      P>|z|      [0.025      0.975]\n",
      "----------------------------------------------------------------------------------\n",
      "const           1099.2308    167.749      6.553      0.000     770.449    1428.013\n",
      "ar.L1.mkt_val      0.7808      0.014     54.893      0.000       0.753       0.809\n",
      "ar.L2.mkt_val      0.0354      0.018      1.960      0.050   -3.05e-06       0.071\n",
      "ar.L3.mkt_val     -0.0063      0.018     -0.349      0.727      -0.042       0.029\n",
      "ar.L4.mkt_val     -0.0140      0.018     -0.776      0.438      -0.049       0.021\n",
      "ar.L5.mkt_val      0.0364      0.018      2.018      0.044       0.001       0.072\n",
      "ar.L6.mkt_val      0.0132      0.018      0.729      0.466      -0.022       0.049\n",
      "ar.L7.mkt_val     -0.0416      0.018     -2.301      0.021      -0.077      -0.006\n",
      "ar.L8.mkt_val      0.0603      0.018      3.337      0.001       0.025       0.096\n",
      "ar.L9.mkt_val      0.0219      0.018      1.210      0.226      -0.014       0.057\n",
      "ar.L10.mkt_val     0.0126      0.018      0.696      0.486      -0.023       0.048\n",
      "ar.L11.mkt_val     0.0081      0.018      0.451      0.652      -0.027       0.044\n",
      "ar.L12.mkt_val     0.0368      0.018      2.039      0.041       0.001       0.072\n",
      "ar.L13.mkt_val     0.0118      0.018      0.653      0.514      -0.024       0.047\n",
      "ar.L14.mkt_val    -0.0226      0.018     -1.252      0.211      -0.058       0.013\n",
      "ar.L15.mkt_val     0.0636      0.014      4.473      0.000       0.036       0.092\n",
      "                                    Roots                                     \n",
      "==============================================================================\n",
      "                   Real          Imaginary           Modulus         Frequency\n",
      "------------------------------------------------------------------------------\n",
      "AR.1            -1.2182           -0.2462j            1.2428           -0.4683\n",
      "AR.2            -1.2182           +0.2462j            1.2428            0.4683\n",
      "AR.3            -0.9626           -0.7563j            1.2241           -0.3940\n",
      "AR.4            -0.9626           +0.7563j            1.2241            0.3940\n",
      "AR.5            -0.5713           -1.0680j            1.2112           -0.3282\n",
      "AR.6            -0.5713           +1.0680j            1.2112            0.3282\n",
      "AR.7             1.0012           -0.0000j            1.0012           -0.0000\n",
      "AR.8             1.0530           -0.4440j            1.1428           -0.0635\n",
      "AR.9             1.0530           +0.4440j            1.1428            0.0635\n",
      "AR.10            0.8990           -0.8403j            1.2306           -0.1196\n",
      "AR.11            0.8990           +0.8403j            1.2306            0.1196\n",
      "AR.12            0.4776           -1.1414j            1.2373           -0.1869\n",
      "AR.13            0.4776           +1.1414j            1.2373            0.1869\n",
      "AR.14           -0.0006           -1.2355j            1.2355           -0.2501\n",
      "AR.15           -0.0006           +1.2355j            1.2355            0.2501\n",
      "------------------------------------------------------------------------------\n",
      "LLR - 1e-05\n"
     ]
    }
   ],
   "source": [
    "model_ar15 = ARMA(df_train.mkt_val, order = (15,0))  \n",
    "results_ar15 = model_ar15.fit()\n",
    "print(results_ar15.summary())\n",
    "print(\"LLR - \" + str(LLR(model_ar14, model_ar15)))"
   ]
  },
  {
   "cell_type": "markdown",
   "metadata": {},
   "source": [
    "### AR models work best with stationary time series so for non-stationary time series we will have to turn the series into stationary "
   ]
  },
  {
   "cell_type": "code",
   "execution_count": 43,
   "metadata": {},
   "outputs": [
    {
     "data": {
      "text/plain": [
       "(-1.5942821597949672,\n",
       " 0.4864651302056871,\n",
       " 6,\n",
       " 6262,\n",
       " {'1%': -3.4313947113763845,\n",
       "  '5%': -2.862001669939781,\n",
       "  '10%': -2.5670157439442236},\n",
       " 68396.51796279417)"
      ]
     },
     "execution_count": 43,
     "metadata": {},
     "output_type": "execute_result"
    }
   ],
   "source": [
    "sts.adfuller(df.ftse)"
   ]
  },
  {
   "cell_type": "code",
   "execution_count": 45,
   "metadata": {},
   "outputs": [],
   "source": [
    "df['returns'] = df.ftse.pct_change(1).mul(100)\n",
    "df = df.iloc[1:]"
   ]
  },
  {
   "cell_type": "code",
   "execution_count": 47,
   "metadata": {},
   "outputs": [
    {
     "data": {
      "text/plain": [
       "<bound method NDFrame.head of            date          spx       dax         ftse    nikkei   returns\n",
       "1    1994-10-01   475.270000   2225.00  3440.580000  18443.44 -0.156704\n",
       "2    1994-11-01   474.130000   2228.10  3413.770000  18485.25 -0.779229\n",
       "3    1994-12-01   474.170000   2182.06  3372.020000  18793.88 -1.222988\n",
       "4    1994-01-13   472.470000   2142.37  3360.010000  18577.26 -0.356166\n",
       "5    1994-01-14   474.910000   2151.05  3400.560000  18973.70  1.206842\n",
       "...         ...          ...       ...          ...       ...       ...\n",
       "6264 2018-01-23  2839.130362  13559.60  7731.827774  24124.15  0.212382\n",
       "6265 2018-01-24  2837.544008  13414.74  7643.428966  23940.78 -1.143311\n",
       "6266 2018-01-25  2839.253031  13298.36  7615.839954  23669.49 -0.360951\n",
       "6267 2018-01-26  2872.867839  13340.17  7665.541292  23631.88  0.652605\n",
       "6268 2018-01-29  2853.528411  13324.48  7671.533300  23629.34  0.078168\n",
       "\n",
       "[6268 rows x 6 columns]>"
      ]
     },
     "execution_count": 47,
     "metadata": {},
     "output_type": "execute_result"
    }
   ],
   "source": [
    "df.head"
   ]
  },
  {
   "cell_type": "code",
   "execution_count": 48,
   "metadata": {},
   "outputs": [
    {
     "data": {
      "text/plain": [
       "(-15.182022490939042,\n",
       " 6.178382600319799e-28,\n",
       " 34,\n",
       " 6233,\n",
       " {'1%': -3.4313995740622145,\n",
       "  '5%': -2.8620038184370746,\n",
       "  '10%': -2.567016887640913},\n",
       " 19014.128593790985)"
      ]
     },
     "execution_count": 48,
     "metadata": {},
     "output_type": "execute_result"
    }
   ],
   "source": [
    "sts.adfuller(df.returns)"
   ]
  },
  {
   "cell_type": "markdown",
   "metadata": {},
   "source": [
    "### As we can see from the p-value as well as test statistic, the series is now converted to stationary"
   ]
  },
  {
   "cell_type": "code",
   "execution_count": null,
   "metadata": {},
   "outputs": [],
   "source": []
  },
  {
   "cell_type": "code",
   "execution_count": null,
   "metadata": {},
   "outputs": [],
   "source": []
  },
  {
   "cell_type": "code",
   "execution_count": null,
   "metadata": {},
   "outputs": [],
   "source": []
  },
  {
   "cell_type": "code",
   "execution_count": null,
   "metadata": {},
   "outputs": [],
   "source": []
  },
  {
   "cell_type": "code",
   "execution_count": null,
   "metadata": {},
   "outputs": [],
   "source": []
  },
  {
   "cell_type": "code",
   "execution_count": null,
   "metadata": {},
   "outputs": [],
   "source": []
  },
  {
   "cell_type": "code",
   "execution_count": null,
   "metadata": {},
   "outputs": [],
   "source": []
  },
  {
   "cell_type": "code",
   "execution_count": null,
   "metadata": {},
   "outputs": [],
   "source": []
  },
  {
   "cell_type": "code",
   "execution_count": null,
   "metadata": {},
   "outputs": [],
   "source": []
  },
  {
   "cell_type": "code",
   "execution_count": null,
   "metadata": {},
   "outputs": [],
   "source": []
  },
  {
   "cell_type": "code",
   "execution_count": null,
   "metadata": {},
   "outputs": [],
   "source": []
  }
 ],
 "metadata": {
  "kernelspec": {
   "display_name": "Python 3",
   "language": "python",
   "name": "python3"
  },
  "language_info": {
   "codemirror_mode": {
    "name": "ipython",
    "version": 3
   },
   "file_extension": ".py",
   "mimetype": "text/x-python",
   "name": "python",
   "nbconvert_exporter": "python",
   "pygments_lexer": "ipython3",
   "version": "3.8.3"
  }
 },
 "nbformat": 4,
 "nbformat_minor": 4
}
